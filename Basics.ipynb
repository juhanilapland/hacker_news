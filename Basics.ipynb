{
 "cells": [
  {
   "cell_type": "markdown",
   "metadata": {
    "collapsed": true
   },
   "source": [
    "# Hacker News: Behind the Numbers of Tech's Most Vibrant Community #"
   ]
  },
  {
   "cell_type": "markdown",
   "metadata": {},
   "source": [
    "Objective: Compare two most popular post types in Hacker News, which are \"Ask HN\" and \"Show HN\". Analyze, which one has higher amount of comments per post. Then analyze, which time of the day gathers the most amount of comments in better performing posts. \n",
    "\n",
    "Dataset used: https://www.kaggle.com/datasets/hacker-news/hacker-news-posts \n",
    "\n",
    "Steps:\n",
    "1. Read the file and transform into list of lists\n",
    "2. Remove the header row\n",
    "3. Append the posts to new lists\n",
    "4. Calculate the averages\n",
    "5. Use datetime to create datetime object\n",
    "6. Create two new dictionaries with: hour:total_posts and hour:total_comments\n",
    "7. Calculate the average of each hour\n",
    "8. Swap the columns and sort the answers"
   ]
  },
  {
   "cell_type": "code",
   "execution_count": 36,
   "metadata": {},
   "outputs": [],
   "source": [
    "# Read in the data\n",
    "from csv import reader\n",
    "\n",
    "openned_file = open(\"hacker_news.csv\")\n",
    "read_file = reader(openned_file)\n",
    "\n",
    "# Transform read_file into a list of lists\n",
    "hn = list(read_file)\n",
    "openned_file.close()"
   ]
  },
  {
   "cell_type": "code",
   "execution_count": 37,
   "metadata": {},
   "outputs": [],
   "source": [
    "# Separate the header and delete it from the list\n",
    "\n",
    "header = hn[0]\n",
    "hn1 = hn [1:]"
   ]
  },
  {
   "cell_type": "code",
   "execution_count": 38,
   "metadata": {},
   "outputs": [
    {
     "name": "stdout",
     "output_type": "stream",
     "text": [
      "The amount of posts in ask hn is:  1744\n",
      "The amount of posts in show hn is:  1162\n",
      "The amount of other posts is:  17194\n"
     ]
    }
   ],
   "source": [
    "#Create three new lists for storing different posts\n",
    "\n",
    "ask_posts = []\n",
    "show_posts = []\n",
    "other_posts = []\n",
    "\n",
    "# Iterate through the list and append to new lists by using lower() and startswith() methods\n",
    "for row in hn1:\n",
    "    title = row[1]\n",
    "    if title.lower().startswith(\"ask hn\"):\n",
    "        ask_posts.append(row)\n",
    "    elif title.lower().startswith(\"show hn\"):\n",
    "        show_posts.append(row)\n",
    "    else:\n",
    "        other_posts.append(row)\n",
    "        \n",
    "print(\"The amount of posts in ask hn is: \", len(ask_posts))\n",
    "print(\"The amount of posts in show hn is: \", len(show_posts))\n",
    "print(\"The amount of other posts is: \", len(other_posts))"
   ]
  },
  {
   "cell_type": "code",
   "execution_count": 39,
   "metadata": {},
   "outputs": [
    {
     "name": "stdout",
     "output_type": "stream",
     "text": [
      "Total of comments in ask hn: 24483\n",
      "Total of comments in ask hn: 11988\n",
      "The average amount of comments in ask hn is:  14\n",
      "The average amount of comments in show hn is:  7\n"
     ]
    }
   ],
   "source": [
    "# Calculate the amounts of comments with for loop and addition\n",
    "\n",
    "ask_comments = 0\n",
    "show_comments = 0\n",
    "\n",
    "for row in ask_posts:\n",
    "    comments = int(row[4])\n",
    "    ask_comments += comments\n",
    "    \n",
    "for row in show_posts:\n",
    "    comments = int(row[4])\n",
    "    show_comments += comments\n",
    "    \n",
    "\n",
    "print(\"Total of comments in ask hn:\",ask_comments)\n",
    "print(\"Total of comments in ask hn:\",show_comments)\n",
    "\n",
    "\n",
    "# Calculate the average by dividing the amount of comments with amount of posts. Round the answer\n",
    "avg_ask_comments = round(ask_comments / len(ask_posts))\n",
    "print(\"The average amount of comments in ask hn is: \",avg_ask_comments)\n",
    "avg_show_comments = round(show_comments / len(ask_posts))\n",
    "print(\"The average amount of comments in show hn is: \", avg_show_comments)"
   ]
  },
  {
   "cell_type": "code",
   "execution_count": 40,
   "metadata": {},
   "outputs": [
    {
     "name": "stdout",
     "output_type": "stream",
     "text": [
      "{'09': 45, '13': 85, '10': 59, '14': 107, '16': 108, '23': 68, '12': 73, '17': 100, '15': 116, '21': 109, '20': 80, '02': 58, '18': 109, '03': 54, '05': 46, '19': 110, '01': 60, '22': 71, '08': 48, '04': 47, '00': 55, '06': 44, '07': 34, '11': 58}\n",
      "{'09': 251, '13': 1253, '10': 793, '14': 1416, '16': 1814, '23': 543, '12': 687, '17': 1146, '15': 4477, '21': 1745, '20': 1722, '02': 1381, '18': 1439, '03': 421, '05': 464, '19': 1188, '01': 683, '22': 479, '08': 492, '04': 337, '00': 447, '06': 397, '07': 267, '11': 641}\n"
     ]
    }
   ],
   "source": [
    "# Transform the strings into datetime objects and then extract the data we need\n",
    "\n",
    "import datetime as dt\n",
    "\n",
    "result_list = []\n",
    "\n",
    "# Append a new list with the data we need(time and num_comments) from the posts that start with \"ask hn\"\n",
    "for row in ask_posts:\n",
    "    created_at = row[6]\n",
    "    num_comments = int(row[4])\n",
    "    result_list.append([created_at, num_comments])  \n",
    "\n",
    "# Create two new dictionaries to save the hour:posts and hour:comments\n",
    "posts_per_hour = {}\n",
    "comments_per_hour = {}\n",
    "    \n",
    "# Loop through the list to \n",
    "date_format = \"%m/%d/%Y %H:%M\"\n",
    "for row in result_list:\n",
    "    date = row[0]\n",
    "    comments = row[1]\n",
    "    date_dt = dt.datetime.strptime(date, date_format) # Turning string into a datetime object\n",
    "    date_str = date_dt.strftime(\"%H\") # Extracting the desired outcome, which is the hour of the post\n",
    "    if date_str not in posts_per_hour:\n",
    "        posts_per_hour[date_str] = 1\n",
    "        comments_per_hour[date_str] = comments\n",
    "    else:\n",
    "        posts_per_hour[date_str] += 1\n",
    "        comments_per_hour[date_str] += comments\n",
    "\n",
    "print(posts_per_hour)\n",
    "print(comments_per_hour)"
   ]
  },
  {
   "cell_type": "code",
   "execution_count": 41,
   "metadata": {},
   "outputs": [
    {
     "data": {
      "text/plain": [
       "[['09', 6],\n",
       " ['13', 15],\n",
       " ['10', 13],\n",
       " ['14', 13],\n",
       " ['16', 17],\n",
       " ['23', 8],\n",
       " ['12', 9],\n",
       " ['17', 11],\n",
       " ['15', 39],\n",
       " ['21', 16],\n",
       " ['20', 22],\n",
       " ['02', 24],\n",
       " ['18', 13],\n",
       " ['03', 8],\n",
       " ['05', 10],\n",
       " ['19', 11],\n",
       " ['01', 11],\n",
       " ['22', 7],\n",
       " ['08', 10],\n",
       " ['04', 7],\n",
       " ['00', 8],\n",
       " ['06', 9],\n",
       " ['07', 8],\n",
       " ['11', 11]]"
      ]
     },
     "execution_count": 41,
     "metadata": {},
     "output_type": "execute_result"
    }
   ],
   "source": [
    "# Calculate the average by appending a new list with time and average comments per hour\n",
    "avg_by_hour = []\n",
    "\n",
    "for row in comments_per_hour:\n",
    "    avg_by_hour.append([row, round(comments_per_hour[row] / posts_per_hour[row])])\n",
    "    \n",
    "avg_by_hour"
   ]
  },
  {
   "cell_type": "code",
   "execution_count": 42,
   "metadata": {},
   "outputs": [
    {
     "data": {
      "text/plain": [
       "[[39, '15'],\n",
       " [24, '02'],\n",
       " [22, '20'],\n",
       " [17, '16'],\n",
       " [16, '21'],\n",
       " [15, '13'],\n",
       " [13, '18'],\n",
       " [13, '14'],\n",
       " [13, '10'],\n",
       " [11, '19'],\n",
       " [11, '17'],\n",
       " [11, '11'],\n",
       " [11, '01'],\n",
       " [10, '08'],\n",
       " [10, '05'],\n",
       " [9, '12'],\n",
       " [9, '06'],\n",
       " [8, '23'],\n",
       " [8, '07'],\n",
       " [8, '03'],\n",
       " [8, '00'],\n",
       " [7, '22'],\n",
       " [7, '04'],\n",
       " [6, '09']]"
      ]
     },
     "execution_count": 42,
     "metadata": {},
     "output_type": "execute_result"
    }
   ],
   "source": [
    "# Swap the columns so that the order is: average by hour, hour\n",
    "swap_avg_per_hour = []\n",
    "\n",
    "for row in avg_by_hour:\n",
    "    swap_avg_per_hour.append([row[1], row[0]])\n",
    "\n",
    "# Use sorted() function to arrange the hours from highest to lowest\n",
    "sorted_swap = sorted(swap_avg_per_hour, reverse = True)\n",
    "\n",
    "sorted_swap"
   ]
  },
  {
   "cell_type": "code",
   "execution_count": 43,
   "metadata": {},
   "outputs": [
    {
     "name": "stdout",
     "output_type": "stream",
     "text": [
      "Top 5 hours to post in Hacker News\n",
      "At 15:00 the average comments per post was 39.\n",
      "At 02:00 the average comments per post was 24.\n",
      "At 20:00 the average comments per post was 22.\n",
      "At 16:00 the average comments per post was 17.\n",
      "At 21:00 the average comments per post was 16.\n"
     ]
    }
   ],
   "source": [
    "print(\"Top 5 hours to post in Hacker News\")\n",
    "\n",
    "# Print the desired outcome using datetime\n",
    "for row in sorted_swap[:5]:\n",
    "    hour = dt.datetime.strptime(row[1], \"%H\")\n",
    "    hr = hour.strftime(\"%H:%M\")\n",
    "    print(\"At {} the average comments per post was {}.\".format(hr, row[0]))\n",
    "    "
   ]
  },
  {
   "cell_type": "markdown",
   "metadata": {},
   "source": [
    "To conclude the project, we made an analysis to the 20000 rows found from the Hacker News csv file. We focused on first comparing \"Ask HN\" and \"Show HN\" between each other. \"Ask HN\" questions got double amount the answers compared to \"Show HN\". \n",
    "\n",
    "The best time to post seems to be between 1500-1600 (EST). It would be generally a good idea to post between 1500-1700 or 2000-2200. \n",
    "\n",
    "Learnings:\n",
    "- Working with strings\n",
    "- Object-oriented programming\n",
    "- Working with dates and times\n",
    "\n"
   ]
  }
 ],
 "metadata": {
  "kernelspec": {
   "display_name": "Python 3",
   "language": "python",
   "name": "python3"
  },
  "language_info": {
   "codemirror_mode": {
    "name": "ipython",
    "version": 3
   },
   "file_extension": ".py",
   "mimetype": "text/x-python",
   "name": "python",
   "nbconvert_exporter": "python",
   "pygments_lexer": "ipython3",
   "version": "3.8.2"
  }
 },
 "nbformat": 4,
 "nbformat_minor": 2
}
